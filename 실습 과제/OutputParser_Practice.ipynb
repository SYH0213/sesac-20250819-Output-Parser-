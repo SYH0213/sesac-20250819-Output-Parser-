{
 "cells": [
  {
   "cell_type": "markdown",
   "id": "e307fa80",
   "metadata": {},
   "source": [
    "### PydanticOutputParser를 활용한 게임 추천"
   ]
  },
  {
   "cell_type": "code",
   "execution_count": 2,
   "id": "14ed197c",
   "metadata": {},
   "outputs": [
    {
     "data": {
      "text/plain": [
       "True"
      ]
     },
     "execution_count": 2,
     "metadata": {},
     "output_type": "execute_result"
    }
   ],
   "source": [
    "from dotenv import load_dotenv\n",
    "\n",
    "load_dotenv()"
   ]
  },
  {
   "cell_type": "code",
   "execution_count": 3,
   "id": "ce67b9a3",
   "metadata": {},
   "outputs": [
    {
     "name": "stdout",
     "output_type": "stream",
     "text": [
      "LangSmith 추적을 시작합니다.\n",
      "[프로젝트명]\n",
      "OutputParser_Practice\n"
     ]
    }
   ],
   "source": [
    "# LangSmith 추적을 설정합니다. https://smith.langchain.com\n",
    "# !pip install langchain-teddynote\n",
    "from langchain_teddynote import logging\n",
    "\n",
    "# 프로젝트 이름을 입력합니다.\n",
    "logging.langsmith(\"OutputParser_Practice\")"
   ]
  },
  {
   "cell_type": "code",
   "execution_count": 8,
   "id": "4300c0a1",
   "metadata": {},
   "outputs": [
    {
     "name": "stderr",
     "output_type": "stream",
     "text": [
      "c:\\Users\\SBA\\AppData\\Local\\pypoetry\\Cache\\virtualenvs\\langchain-kr-Us6BDj1P-py3.11\\Lib\\site-packages\\IPython\\core\\interactiveshell.py:3699: LangChainDeprecationWarning: As of langchain-core 0.3.0, LangChain uses pydantic v2 internally. The langchain_core.pydantic_v1 module was a compatibility shim for pydantic v1, and should no longer be used. Please update the code to import from Pydantic directly.\n",
      "\n",
      "For example, replace imports like: `from langchain_core.pydantic_v1 import BaseModel`\n",
      "with: `from pydantic import BaseModel`\n",
      "or the v1 compatibility namespace if you are working in a code base that has not been fully upgraded to pydantic 2 yet. \tfrom pydantic.v1 import BaseModel\n",
      "\n",
      "  exec(code_obj, self.user_global_ns, self.user_ns)\n"
     ]
    }
   ],
   "source": [
    "import os\n",
    "from typing import List, Optional\n",
    "\n",
    "from pydantic import BaseModel, Field, ValidationError\n",
    "\n",
    "from langchain_core.prompts import PromptTemplate\n",
    "from langchain_openai import ChatOpenAI\n",
    "from langchain.chains import LLMChain\n",
    "from langchain.output_parsers import PydanticOutputParser, OutputFixingParser\n",
    "from langchain_core.pydantic_v1 import BaseModel as V1BaseModel  # Pydantic v1 호환성\n",
    "from langchain_core.pydantic_v1 import Field as V1Field, validator as V1Validator # Pydantic v1 호환성\n"
   ]
  },
  {
   "cell_type": "code",
   "execution_count": 9,
   "id": "8479d246",
   "metadata": {},
   "outputs": [],
   "source": [
    "# 1. Pydantic 모델 정의\n",
    "# 지원 플랫폼과 출처 정보를 포함한 최종 모델\n",
    "class GameRecommendation(BaseModel):\n",
    "    title: str = Field(description=\"추천 게임의 제목\")\n",
    "    genre: List[str] = Field(description=\"게임 장르 목록 (예: RPG, Action, Indie)\")\n",
    "    summary: str = Field(description=\"게임에 대한 간략한 설명\")\n",
    "    similarity: str = Field(description=\"해본 게임과의 유사성\")\n",
    "    developer: str = Field(description=\"개발사 또는 제작사\")\n",
    "    platforms: List[str] = Field(description=\"지원 플랫폼 목록 (예: PC, PlayStation, Nintendo Switch, Mobile)\")\n",
    "    source: Optional[str] = Field(description=\"추천 정보의 출처 URL. 찾을 수 없는 경우 빈 문자열\")"
   ]
  },
  {
   "cell_type": "code",
   "execution_count": null,
   "id": "fa6fc129",
   "metadata": {},
   "outputs": [],
   "source": [
    "# 2. 파서 및 LLM 설정\n",
    "llm = ChatOpenAI(temperature=0, model=\"gpt-4o-mini\")\n",
    "\n",
    "# PydanticOutputParser를 사용해 모델과 연결\n",
    "pydantic_parser = PydanticOutputParser(pydantic_object=GameRecommendation)\n",
    "\n",
    "# OutputFixingParser를 추가하여 출력 오류에 대비\n",
    "parser = OutputFixingParser.from_llm(parser=pydantic_parser, llm=llm)"
   ]
  },
  {
   "cell_type": "code",
   "execution_count": null,
   "id": "aedbca21",
   "metadata": {},
   "outputs": [],
   "source": [
    "# 3. 프롬프트 템플릿 정의\n",
    "prompt = PromptTemplate(\n",
    "    template=\"\"\"너는 전문 게임 추천가야. 다음 요청에 따라 사용자에게 게임을 추천해줘.\n",
    "    요청: {request}\n",
    "\n",
    "    {format_instructions}\n",
    "    \n",
    "    주의사항:\n",
    "    - 요청에 맞는 게임을 딱 하나만 추천해줘.\n",
    "    -오직 신뢰할 수 있는 정보를 바탕으로 추천해줘.\n",
    "    - Platforms 필드에는 'PC (Steam)', 'PC (Epic Games Store)', 'PlayStation 5', 'Xbox Series X/S', 'Nintendo Switch', 'Mobile' 등 구체적인 플랫폼을 포함해줘.\n",
    "    - Source 필드는 웹사이트 URL 형식으로 작성해줘. 출처를 찾지 못하면 None으로 반환해도 돼.\n",
    "    \"\"\",\n",
    "    input_variables=[\"request\"],\n",
    "    partial_variables={\"format_instructions\": parser.get_format_instructions()},\n",
    ")"
   ]
  },
  {
   "cell_type": "code",
   "execution_count": 14,
   "id": "80fc8dec",
   "metadata": {},
   "outputs": [
    {
     "name": "stdout",
     "output_type": "stream",
     "text": [
      "=== 게임 추천 결과 ===\n",
      "제목: Mario Kart 8 Deluxe\n",
      "장르: Racing, Party\n",
      "요약: Mario Kart 8 Deluxe는 다양한 캐릭터와 트랙에서 경주를 즐길 수 있는 인기 카트 레이싱 게임입니다. 친구들과 함께 멀티플레이어 모드로 즐길 수 있으며, 다양한 아이템과 커스터마이징 옵션이 특징입니다.\n",
      "유사성: 카트라이더와 유사하게 경주와 아이템 사용이 중요한 레이싱 게임으로, 캐주얼한 플레이가 가능합니다.\n",
      "개발사: Nintendo\n",
      "플랫폼: Nintendo Switch\n",
      "출처: https://www.nintendo.com/games/detail/mario-kart-8-deluxe-switch/\n"
     ]
    }
   ],
   "source": [
    "# 4. 체인 연결 및 실행\n",
    "chain = prompt | llm | parser\n",
    "\n",
    "# 사용자 요청\n",
    "user_request = \"내가 해본 게임은 '카트라이더'야. 이 게임과 비슷한 장르의 게임을 추천해줘.\"\n",
    "\n",
    "try:\n",
    "    # 체인을 실행하여 결과 얻기\n",
    "    recommendation = chain.invoke({\"request\": user_request})\n",
    "\n",
    "    # Pydantic 모델 인스턴스 출력\n",
    "    print(\"=== 게임 추천 결과 ===\")\n",
    "    print(f\"제목: {recommendation.title}\")\n",
    "    print(f\"장르: {', '.join(recommendation.genre)}\")\n",
    "    print(f\"요약: {recommendation.summary}\")\n",
    "    print(f\"유사성: {recommendation.similarity}\")\n",
    "    print(f\"개발사: {recommendation.developer}\")\n",
    "    print(f\"플랫폼: {', '.join(recommendation.platforms)}\")\n",
    "    print(f\"출처: {recommendation.source}\")\n",
    "\n",
    "except ValidationError as e:\n",
    "    print(\"유효성 검사 오류:\", e)\n",
    "    # OutputFixingParser를 사용했기 때문에 이 오류는 발생할 가능성이 낮아집니다.\n"
   ]
  },
  {
   "cell_type": "markdown",
   "id": "c1827f67",
   "metadata": {},
   "source": [
    "### 문장 난이도 분류"
   ]
  },
  {
   "cell_type": "code",
   "execution_count": 15,
   "id": "f2bc7f1e",
   "metadata": {},
   "outputs": [],
   "source": [
    "import os\n",
    "from enum import Enum\n",
    "\n",
    "from langchain_core.prompts import PromptTemplate\n",
    "from langchain_openai import ChatOpenAI\n",
    "from langchain.chains import LLMChain\n",
    "from langchain.output_parsers import EnumOutputParser"
   ]
  },
  {
   "cell_type": "code",
   "execution_count": 23,
   "id": "93cf4c0e",
   "metadata": {},
   "outputs": [],
   "source": [
    "# 1. 난이도 Enum 타입 정의\n",
    "# Enum 클래스는 str을 상속받아 파싱을 더 쉽게 만듭니다.\n",
    "class Difficulty(str, Enum):\n",
    "    VERY_EASY = \"매우_쉬움\"\n",
    "    EASY = \"쉬움\"\n",
    "    NORMAL = \"보통\"\n",
    "    HARD = \"어려움\"\n",
    "    VERY_HARD = \"매우_어려움\""
   ]
  },
  {
   "cell_type": "code",
   "execution_count": 18,
   "id": "b9add0f0",
   "metadata": {},
   "outputs": [],
   "source": [
    "# 2. LLM 및 파서 설정\n",
    "llm = ChatOpenAI(temperature=0, model=\"gpt-4o-mini\")\n",
    "\n",
    "# EnumOutputParser 설정\n",
    "enum_parser = EnumOutputParser(enum=Difficulty)"
   ]
  },
  {
   "cell_type": "code",
   "execution_count": 26,
   "id": "85b8a6f9",
   "metadata": {},
   "outputs": [],
   "source": [
    "# 3. 프롬프트 템플릿 정의\n",
    "# 프롬프트에 EnumOutputParser가 생성한 포맷 지시문을 포함시킵니다.\n",
    "prompt = PromptTemplate(\n",
    "    template=\"\"\"주어진 문장의 난이도를 분석하고, 아래 형식에 맞춰 분류해줘.\n",
    "    \n",
    "    문장: {sentence}\n",
    "\n",
    "    {format_instructions}\n",
    "\n",
    "    주의사항:\n",
    "    - 오직 분류된 난이도만 출력하고, 다른 설명이나 부가적인 내용은 일절 포함하지 마.\n",
    "    - 예를 들어, '매우_어려움'만 출력하고 '난이도: 매우_어려움'과 같은 형태도 사용하지 마.\n",
    "    \"\"\",\n",
    "    input_variables=[\"sentence\"],\n",
    "    partial_variables={\"format_instructions\": enum_parser.get_format_instructions()},\n",
    ")"
   ]
  },
  {
   "cell_type": "code",
   "execution_count": 27,
   "id": "f878a3cd",
   "metadata": {},
   "outputs": [],
   "source": [
    "# 4. 체인 연결 및 실행\n",
    "chain = prompt | llm | enum_parser"
   ]
  },
  {
   "cell_type": "code",
   "execution_count": 28,
   "id": "b5dbd78a",
   "metadata": {},
   "outputs": [],
   "source": [
    "# 다양한 난이도의 문장들\n",
    "sentences = [\n",
    "    \"나는 학생입니다.\",  # 매우_쉬움\n",
    "    \"그는 운동선수로서 꾸준히 훈련에 매진했다.\", # 쉬움\n",
    "    \"인간의 의식은 뇌의 복잡한 신경 회로망에서 비롯된 현상이다.\", # 보통\n",
    "    \"가역적이고 자기 조직적인 시스템의 비선형 동역학은 혼돈 이론에 의해 설명될 수 있다.\", # 어려움\n",
    "    \"다양한 매체에서 수렴적 진화론과 관련한 오개념이 확산되어, 생물학계가 우려를 표하고 있다.\" # 어려움 또는 매우_어려움\n",
    "]"
   ]
  },
  {
   "cell_type": "code",
   "execution_count": 29,
   "id": "97491a04",
   "metadata": {},
   "outputs": [
    {
     "name": "stdout",
     "output_type": "stream",
     "text": [
      "=== 문장 난이도 분류 결과 ===\n",
      "[1] 문장: '나는 학생입니다.'\n",
      "    -> 난이도: 매우_쉬움\n",
      "\n",
      "[2] 문장: '그는 운동선수로서 꾸준히 훈련에 매진했다.'\n",
      "    -> 난이도: 쉬움\n",
      "\n",
      "[3] 문장: '인간의 의식은 뇌의 복잡한 신경 회로망에서 비롯된 현상이다.'\n",
      "    -> 난이도: 어려움\n",
      "\n",
      "[4] 문장: '가역적이고 자기 조직적인 시스템의 비선형 동역학은 혼돈 이론에 의해 설명될 수 있다.'\n",
      "    -> 난이도: 어려움\n",
      "\n",
      "[5] 문장: '다양한 매체에서 수렴적 진화론과 관련한 오개념이 확산되어, 생물학계가 우려를 표하고 있다.'\n",
      "    -> 난이도: 어려움\n",
      "\n"
     ]
    }
   ],
   "source": [
    "print(\"=== 문장 난이도 분류 결과 ===\")\n",
    "for i, sentence in enumerate(sentences):\n",
    "    try:\n",
    "        # 체인 실행\n",
    "        result = chain.invoke({\"sentence\": sentence})\n",
    "        print(f\"[{i+1}] 문장: '{sentence}'\")\n",
    "        print(f\"    -> 난이도: {result.value}\\n\")\n",
    "\n",
    "    except Exception as e:\n",
    "        print(f\"[{i+1}] 문장: '{sentence}'\")\n",
    "        print(f\"    -> 오류 발생: {e}\\n\")"
   ]
  },
  {
   "cell_type": "markdown",
   "id": "5092ec0f",
   "metadata": {},
   "source": [
    "##### 일단 출력은 됐으나 문장의 난이도는 사람마다 다르게 느낄 수 있기 때문에 AI가 보편적인 기준으로 판단하는 데 한계가 있습니다."
   ]
  }
 ],
 "metadata": {
  "kernelspec": {
   "display_name": "langchain-kr-Us6BDj1P-py3.11",
   "language": "python",
   "name": "python3"
  },
  "language_info": {
   "codemirror_mode": {
    "name": "ipython",
    "version": 3
   },
   "file_extension": ".py",
   "mimetype": "text/x-python",
   "name": "python",
   "nbconvert_exporter": "python",
   "pygments_lexer": "ipython3",
   "version": "3.11.9"
  }
 },
 "nbformat": 4,
 "nbformat_minor": 5
}
