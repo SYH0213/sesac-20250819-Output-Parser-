{
 "cells": [
  {
   "cell_type": "code",
   "execution_count": 35,
   "id": "134d11a7",
   "metadata": {},
   "outputs": [],
   "source": [
    "# pip install langchain langchain-openai pydantic\n",
    "from typing import List, Optional\n",
    "from pydantic import BaseModel, Field\n",
    "from langchain_openai import ChatOpenAI\n",
    "from langchain_core.prompts import PromptTemplate\n",
    "from langchain.output_parsers import PydanticOutputParser"
   ]
  },
  {
   "cell_type": "code",
   "execution_count": 36,
   "id": "55adb19c",
   "metadata": {},
   "outputs": [],
   "source": [
    "# 1) 구조화 출력 스키마 정의 (원하는 필드를 마음대로 바꿀 수 있어요)\n",
    "class NewsSummary(BaseModel):\n",
    "    title: str = Field(description=\"뉴스의 제목\")\n",
    "    date: str = Field(description=\"뉴스의 날짜\")\n",
    "    category: str = Field(description=\"뉴스 분야: 정치/경제/사회/스포츠/연예/기타\")\n",
    "    summary: str = Field(description=\"기사 전체 요약\")\n",
    "    key_points: list[str] = Field(description=\"핵심 문장 3~5개\")\n"
   ]
  },
  {
   "cell_type": "code",
   "execution_count": 37,
   "id": "73b7e55d",
   "metadata": {},
   "outputs": [
    {
     "data": {
      "text/plain": [
       "'The output should be formatted as a JSON instance that conforms to the JSON schema below.\\n\\nAs an example, for the schema {\"properties\": {\"foo\": {\"title\": \"Foo\", \"description\": \"a list of strings\", \"type\": \"array\", \"items\": {\"type\": \"string\"}}}, \"required\": [\"foo\"]}\\nthe object {\"foo\": [\"bar\", \"baz\"]} is a well-formatted instance of the schema. The object {\"properties\": {\"foo\": [\"bar\", \"baz\"]}} is not well-formatted.\\n\\nHere is the output schema:\\n```\\n{\"properties\": {\"title\": {\"description\": \"뉴스의 제목\", \"title\": \"Title\", \"type\": \"string\"}, \"date\": {\"description\": \"뉴스의 날짜\", \"title\": \"Date\", \"type\": \"string\"}, \"category\": {\"description\": \"뉴스 분야: 정치/경제/사회/스포츠/연예/기타\", \"title\": \"Category\", \"type\": \"string\"}, \"summary\": {\"description\": \"기사 전체 요약\", \"title\": \"Summary\", \"type\": \"string\"}, \"key_points\": {\"description\": \"핵심 문장 3~5개\", \"items\": {\"type\": \"string\"}, \"title\": \"Key Points\", \"type\": \"array\"}}, \"required\": [\"title\", \"date\", \"category\", \"summary\", \"key_points\"]}\\n```'"
      ]
     },
     "execution_count": 37,
     "metadata": {},
     "output_type": "execute_result"
    }
   ],
   "source": [
    "# 2) 파서와 포맷 지침 준비\n",
    "parser = PydanticOutputParser(pydantic_object=NewsSummary)\n",
    "format_instructions = parser.get_format_instructions()\n",
    "format_instructions"
   ]
  },
  {
   "cell_type": "code",
   "execution_count": 38,
   "id": "bf3deb5c",
   "metadata": {},
   "outputs": [],
   "source": [
    "# 3) 프롬프트 템플릿 (format 지침을 partial로 고정)\n",
    "prompt = PromptTemplate(\n",
    "    template=(\n",
    "        \"당신은 한국어 뉴스 요약 도우미입니다. 아래 기사를 읽고 \"\n",
    "        \"요구하는 필드를 정확히 채워 구조화된 결과를 반환하세요.\\n\\n\"\n",
    "        \"기사 원문:\\n{article}\\n\\n\"\n",
    "        \"출력 형식:\\n{format_instructions}\"\n",
    "    ),\n",
    "    input_variables=[\"article\"],\n",
    "    partial_variables={\"format_instructions\": format_instructions},\n",
    ")"
   ]
  },
  {
   "cell_type": "code",
   "execution_count": 39,
   "id": "31881ac2",
   "metadata": {},
   "outputs": [],
   "source": [
    "# 4) LLM 준비 (원하는 모델로 교체 가능)\n",
    "llm = ChatOpenAI(temperature=0, model_name=\"gpt-4.1-mini\")"
   ]
  },
  {
   "cell_type": "code",
   "execution_count": 40,
   "id": "43233066",
   "metadata": {},
   "outputs": [],
   "source": [
    "# 5) 프롬프트 → 모델 → 파서 체인\n",
    "chain = prompt | llm | parser"
   ]
  },
  {
   "cell_type": "code",
   "execution_count": 41,
   "id": "e06ece9e",
   "metadata": {},
   "outputs": [],
   "source": [
    "# 6) 기사 텍스트 (사용자 제공 내용)\n",
    "article_text = \"\"\"금어기 풀렸다…롯데마트, 살아있는 서해안 햇꽃게 판매 개시\n",
    "부산 격포항·태안 신진도항 소재 어선과 사전 계약…역대 최대 물량 준비\n",
    "\n",
    "유통입력 :2025/08/19 09:41    수정: 2025/08/19 10:20\n",
    "\n",
    "김민아 기자 \n",
    "\n",
    "롯데마트는 오는 21일 올해 첫 어획한 ‘서해안 햇꽃게’를 선보인다고 19일 밝혔다. 꽃게는 산란기 보호를 위해 매년 6월 21일부터 8월 20일까지 금어기를 시행하고 있어, 이번에 판매하는 상품은 금어기 해제 당일 새벽 서해안에서 잡아올린 물량이다.\n",
    "\n",
    "오는 27일까지는 ‘서해안 햇꽃게(100g·냉장·국산)’를 행사 카드 결제시 20% 할인해 992원에 판매한다.\n",
    "\n",
    "롯데마트는 새벽에 어획한 햇꽃게를 산지 직송해, 당일 오후 살아있는 상태로 공급한다. 조업 직후 꽃게를 5℃ 이하 냉수에 담가 기절시키고 모래톱과 유사한 환경을 조성해 전국 매장에 직송하는 구조다.\n",
    "\n",
    "물량도 역대 최대로 준비했다. 롯데마트는 꽃게 주산지인 부안 격포항과 태안 신진도항 소재의 선단 40여 척과 사전 계약을 체결해, 전년 대비 약 30% 확대된 공급망을 구축했다.\n",
    "\"\"\""
   ]
  },
  {
   "cell_type": "code",
   "execution_count": null,
   "id": "afa2db46",
   "metadata": {},
   "outputs": [],
   "source": [
    "# 7) 실행\n",
    "result: NewsSummary = chain.invoke({\"article\": article_text})"
   ]
  },
  {
   "cell_type": "code",
   "execution_count": 43,
   "id": "9b35b793",
   "metadata": {},
   "outputs": [
    {
     "name": "stdout",
     "output_type": "stream",
     "text": [
      "title='금어기 풀렸다…롯데마트, 살아있는 서해안 햇꽃게 판매 개시' date='2025-08-19' category='경제' summary='롯데마트는 8월 21일부터 올해 첫 어획한 서해안 햇꽃게를 판매한다. 금어기 해제 당일 새벽 잡은 꽃게를 당일 오후 살아있는 상태로 전국 매장에 직송하며, 역대 최대 물량을 준비했다. 부안 격포항과 태안 신진도항의 어선 40여 척과 사전 계약을 통해 전년 대비 약 30% 확대된 공급망을 구축했다. 8월 27일까지 행사 카드 결제 시 20% 할인된 가격에 판매한다.' key_points=['롯데마트는 오는 21일 올해 첫 어획한 서해안 햇꽃게를 선보인다.', '꽃게는 매년 6월 21일부터 8월 20일까지 금어기를 시행하며, 이번 판매는 금어기 해제 당일 새벽 잡은 물량이다.', '새벽에 어획한 꽃게를 5℃ 이하 냉수에 담가 기절시키고 모래톱과 유사한 환경을 조성해 당일 오후 살아있는 상태로 공급한다.', '부안 격포항과 태안 신진도항 소재 어선 40여 척과 사전 계약을 체결해 전년 대비 약 30% 확대된 공급망을 구축했다.', '8월 27일까지 행사 카드 결제 시 서해안 햇꽃게를 20% 할인된 992원에 판매한다.']\n"
     ]
    }
   ],
   "source": [
    "# 8) 사용 예시\n",
    "print(result)                  # Pydantic 객체로 바로 접근 가능\n",
    "#print(result.model_dump())     # dict로 변환 (Pydantic v2)\n",
    "#print(result.key_points)       # 리스트 필드 바로 활용"
   ]
  },
  {
   "cell_type": "code",
   "execution_count": 44,
   "id": "f54ddf79",
   "metadata": {},
   "outputs": [
    {
     "name": "stdout",
     "output_type": "stream",
     "text": [
      "{\n",
      "  \"title\": \"금어기 풀렸다…롯데마트, 살아있는 서해안 햇꽃게 판매 개시\",\n",
      "  \"date\": \"2025-08-19\",\n",
      "  \"category\": \"경제\",\n",
      "  \"summary\": \"롯데마트는 8월 21일부터 올해 첫 어획한 서해안 햇꽃게를 판매한다. 금어기 해제 당일 새벽 잡은 꽃게를 당일 오후 살아있는 상태로 전국 매장에 직송하며, 역대 최대 물량을 준비했다. 부안 격포항과 태안 신진도항의 어선 40여 척과 사전 계약을 통해 전년 대비 약 30% 확대된 공급망을 구축했다. 8월 27일까지 행사 카드 결제 시 20% 할인된 가격에 판매한다.\",\n",
      "  \"key_points\": [\n",
      "    \"롯데마트는 오는 21일 올해 첫 어획한 서해안 햇꽃게를 선보인다.\",\n",
      "    \"꽃게는 매년 6월 21일부터 8월 20일까지 금어기를 시행하며, 이번 판매는 금어기 해제 당일 새벽 잡은 물량이다.\",\n",
      "    \"새벽에 어획한 꽃게를 5℃ 이하 냉수에 담가 기절시키고 모래톱과 유사한 환경을 조성해 당일 오후 살아있는 상태로 공급한다.\",\n",
      "    \"부안 격포항과 태안 신진도항 소재 어선 40여 척과 사전 계약을 체결해 전년 대비 약 30% 확대된 공급망을 구축했다.\",\n",
      "    \"8월 27일까지 행사 카드 결제 시 서해안 햇꽃게를 20% 할인된 992원에 판매한다.\"\n",
      "  ]\n",
      "}\n"
     ]
    }
   ],
   "source": [
    "import json\n",
    "\n",
    "print(json.dumps(result.model_dump(), indent=2, ensure_ascii=False))\n"
   ]
  }
 ],
 "metadata": {
  "kernelspec": {
   "display_name": "langchain-kr-Us6BDj1P-py3.11",
   "language": "python",
   "name": "python3"
  },
  "language_info": {
   "codemirror_mode": {
    "name": "ipython",
    "version": 3
   },
   "file_extension": ".py",
   "mimetype": "text/x-python",
   "name": "python",
   "nbconvert_exporter": "python",
   "pygments_lexer": "ipython3",
   "version": "3.11.9"
  }
 },
 "nbformat": 4,
 "nbformat_minor": 5
}
